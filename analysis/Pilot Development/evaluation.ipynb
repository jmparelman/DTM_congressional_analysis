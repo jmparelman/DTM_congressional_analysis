{
 "cells": [
  {
   "cell_type": "code",
   "execution_count": 1,
   "id": "f7b76546",
   "metadata": {},
   "outputs": [],
   "source": [
    "from evaluation_utilities import *\n",
    "from plotnine import ggplot, aes, geoms"
   ]
  },
  {
   "cell_type": "markdown",
   "id": "c246a349",
   "metadata": {},
   "source": [
    "## Evaluation"
   ]
  },
  {
   "cell_type": "code",
   "execution_count": 11,
   "id": "c53a1637",
   "metadata": {},
   "outputs": [],
   "source": [
    "data = extract_data(114,'JMP_congressional_nmf/Model_evaluations/Rep')"
   ]
  },
  {
   "cell_type": "code",
   "execution_count": 12,
   "id": "4d402286",
   "metadata": {},
   "outputs": [],
   "source": [
    "coh_df = pd.DataFrame(data)"
   ]
  },
  {
   "cell_type": "code",
   "execution_count": 13,
   "id": "0f8d7dde",
   "metadata": {},
   "outputs": [
    {
     "data": {
      "image/png": "[encoded data removed]",
      "text/plain": [
       "<Figure size 640x480 with 1 Axes>"
      ]
     },
     "metadata": {},
     "output_type": "display_data"
    },
    {
     "data": {
      "text/plain": [
       "<ggplot: (-9223363265615926826)>"
      ]
     },
     "execution_count": 13,
     "metadata": {},
     "output_type": "execute_result"
    }
   ],
   "source": [
    "(\n",
    "    ggplot(coh_df,aes(x='k',y='c_v',group='k')) + \n",
    "    geoms.geom_boxplot()\n",
    ")"
   ]
  },
  {
   "cell_type": "code",
   "execution_count": 14,
   "id": "4b11ab9b",
   "metadata": {},
   "outputs": [],
   "source": [
    "rel_df = pd.DataFrame(calculate_reliability(data))"
   ]
  },
  {
   "cell_type": "code",
   "execution_count": 15,
   "id": "991271a0",
   "metadata": {},
   "outputs": [
    {
     "data": {
      "image/png": "[encoded data removed]",
      "text/plain": [
       "<Figure size 640x480 with 1 Axes>"
      ]
     },
     "metadata": {},
     "output_type": "display_data"
    },
    {
     "data": {
      "text/plain": [
       "<ggplot: (-9223363265600163289)>"
      ]
     },
     "execution_count": 15,
     "metadata": {},
     "output_type": "execute_result"
    }
   ],
   "source": [
    "(\n",
    "    ggplot(rel_df,aes(x='k',y='rel',group='k')) + \n",
    "    geoms.geom_boxplot()\n",
    ")"
   ]
  },
  {
   "cell_type": "code",
   "execution_count": 16,
   "id": "35a60532",
   "metadata": {},
   "outputs": [],
   "source": [
    "rel_df = rel_df.groupby('k').rel.mean().reset_index()"
   ]
  },
  {
   "cell_type": "code",
   "execution_count": 17,
   "id": "30be6d13",
   "metadata": {},
   "outputs": [],
   "source": [
    "coh_df = coh_df.groupby('k').c_v.mean().reset_index()"
   ]
  },
  {
   "cell_type": "code",
   "execution_count": 18,
   "id": "de31bdbe",
   "metadata": {},
   "outputs": [
    {
     "data": {
      "text/html": [
       "<div>\n",
       "<style scoped>\n",
       "    .dataframe tbody tr th:only-of-type {\n",
       "        vertical-align: middle;\n",
       "    }\n",
       "\n",
       "    .dataframe tbody tr th {\n",
       "        vertical-align: top;\n",
       "    }\n",
       "\n",
       "    .dataframe thead th {\n",
       "        text-align: right;\n",
       "    }\n",
       "</style>\n",
       "<table border=\"1\" class=\"dataframe\">\n",
       "  <thead>\n",
       "    <tr style=\"text-align: right;\">\n",
       "      <th></th>\n",
       "      <th>k</th>\n",
       "      <th>c_v</th>\n",
       "      <th>rel</th>\n",
       "    </tr>\n",
       "  </thead>\n",
       "  <tbody>\n",
       "    <tr>\n",
       "      <th>0</th>\n",
       "      <td>10</td>\n",
       "      <td>0.554984</td>\n",
       "      <td>0.745000</td>\n",
       "    </tr>\n",
       "    <tr>\n",
       "      <th>1</th>\n",
       "      <td>20</td>\n",
       "      <td>0.591682</td>\n",
       "      <td>0.715000</td>\n",
       "    </tr>\n",
       "    <tr>\n",
       "      <th>2</th>\n",
       "      <td>30</td>\n",
       "      <td>0.584119</td>\n",
       "      <td>0.723333</td>\n",
       "    </tr>\n",
       "    <tr>\n",
       "      <th>3</th>\n",
       "      <td>40</td>\n",
       "      <td>0.593909</td>\n",
       "      <td>0.738750</td>\n",
       "    </tr>\n",
       "    <tr>\n",
       "      <th>4</th>\n",
       "      <td>50</td>\n",
       "      <td>0.573938</td>\n",
       "      <td>0.694000</td>\n",
       "    </tr>\n",
       "    <tr>\n",
       "      <th>5</th>\n",
       "      <td>60</td>\n",
       "      <td>0.584896</td>\n",
       "      <td>0.698333</td>\n",
       "    </tr>\n",
       "    <tr>\n",
       "      <th>6</th>\n",
       "      <td>70</td>\n",
       "      <td>0.576135</td>\n",
       "      <td>0.703571</td>\n",
       "    </tr>\n",
       "    <tr>\n",
       "      <th>7</th>\n",
       "      <td>80</td>\n",
       "      <td>0.576162</td>\n",
       "      <td>0.702500</td>\n",
       "    </tr>\n",
       "    <tr>\n",
       "      <th>8</th>\n",
       "      <td>90</td>\n",
       "      <td>0.567691</td>\n",
       "      <td>0.677778</td>\n",
       "    </tr>\n",
       "    <tr>\n",
       "      <th>9</th>\n",
       "      <td>100</td>\n",
       "      <td>0.563001</td>\n",
       "      <td>0.675000</td>\n",
       "    </tr>\n",
       "  </tbody>\n",
       "</table>\n",
       "</div>"
      ],
      "text/plain": [
       "     k       c_v       rel\n",
       "0   10  0.554984  0.745000\n",
       "1   20  0.591682  0.715000\n",
       "2   30  0.584119  0.723333\n",
       "3   40  0.593909  0.738750\n",
       "4   50  0.573938  0.694000\n",
       "5   60  0.584896  0.698333\n",
       "6   70  0.576135  0.703571\n",
       "7   80  0.576162  0.702500\n",
       "8   90  0.567691  0.677778\n",
       "9  100  0.563001  0.675000"
      ]
     },
     "execution_count": 18,
     "metadata": {},
     "output_type": "execute_result"
    }
   ],
   "source": [
    "coh_df.merge(rel_df,on='k')"
   ]
  },
  {
   "cell_type": "code",
   "execution_count": 12,
   "id": "86475a12",
   "metadata": {},
   "outputs": [],
   "source": [
    "Together = {\n",
    "    112:30,\n",
    "    113:30,\n",
    "    114:50\n",
    " }"
   ]
  },
  {
   "cell_type": "code",
   "execution_count": 15,
   "id": "9d356915",
   "metadata": {},
   "outputs": [],
   "source": [
    "Dem = {\n",
    "    112:30,\n",
    "    113:50,\n",
    "    114:30\n",
    "}"
   ]
  },
  {
   "cell_type": "code",
   "execution_count": null,
   "id": "d02a49bf",
   "metadata": {},
   "outputs": [],
   "source": [
    "Rep = {\n",
    "    112:20,\n",
    "    113:20,\n",
    "    114:40\n",
    "}"
   ]
  },
  {
   "cell_type": "code",
   "execution_count": null,
   "id": "d51697c7",
   "metadata": {},
   "outputs": [],
   "source": []
  }
 ],
 "metadata": {
  "kernelspec": {
   "display_name": "conda_python3",
   "language": "python",
   "name": "conda_python3"
  },
  "language_info": {
   "codemirror_mode": {
    "name": "ipython",
    "version": 3
   },
   "file_extension": ".py",
   "mimetype": "text/x-python",
   "name": "python",
   "nbconvert_exporter": "python",
   "pygments_lexer": "ipython3",
   "version": "3.6.13"
  }
 },
 "nbformat": 4,
 "nbformat_minor": 5
}
