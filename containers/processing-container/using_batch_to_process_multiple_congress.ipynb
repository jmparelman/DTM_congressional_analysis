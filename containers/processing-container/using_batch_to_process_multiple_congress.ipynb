{
 "cells": [
  {
   "cell_type": "markdown",
   "id": "f26fc8b5",
   "metadata": {},
   "source": [
    "# Using AWS Batch Processing to do preprocessing on congress data\n",
    "\n",
    "\n",
    "#### HISTORY\n",
    "\n",
    "* 4/29/21 mbod - try preproc for 97-114 congress data using AWS batch\n"
   ]
  },
  {
   "cell_type": "markdown",
   "id": "48851aea",
   "metadata": {},
   "source": [
    "### Trying launching multiple processes\n",
    "\n",
    "* Before we resort to AWS Batch what happens if we try and launch multiple processes with SageMaker SDK?"
   ]
  },
  {
   "cell_type": "code",
   "execution_count": 6,
   "id": "11f0b7d8",
   "metadata": {},
   "outputs": [],
   "source": [
    "import boto3\n",
    "from sagemaker import get_execution_role\n",
    "from sagemaker.processing import ScriptProcessor, ProcessingInput, ProcessingOutput\n"
   ]
  },
  {
   "cell_type": "code",
   "execution_count": 7,
   "id": "02993085",
   "metadata": {},
   "outputs": [],
   "source": [
    "region = boto3.session.Session().region_name \n",
    "\n",
    "account_id = boto3.client('sts').get_caller_identity().get('Account')\n",
    "ecr_repository = 'sagemaker-processing-container'\n",
    "tag = ':latest'\n",
    "processing_repository_uri = '{}.dkr.ecr.{}.amazonaws.com/{}'.format(account_id, region, ecr_repository + tag)\n",
    "role = get_execution_role()\n"
   ]
  },
  {
   "cell_type": "code",
   "execution_count": 8,
   "id": "08e74e29",
   "metadata": {},
   "outputs": [],
   "source": [
    "script_processor = ScriptProcessor(command=['python3'],\n",
    "                image_uri=processing_repository_uri,\n",
    "                role=role,\n",
    "                instance_count=1,\n",
    "                instance_type='ml.m5.2xlarge')\n"
   ]
  },
  {
   "cell_type": "code",
   "execution_count": 14,
   "id": "8d6c712b",
   "metadata": {},
   "outputs": [
    {
     "name": "stdout",
     "output_type": "stream",
     "text": [
      "Scheduling 111\n",
      "\n",
      "Job Name:  sagemaker-processing-container-2021-08-27-15-21-25-148\n",
      "Inputs:  [{'InputName': 'input-1', 'AppManaged': False, 'S3Input': {'S3Uri': 's3://ascsagemaker/JMP_congressional_nmf/raw_data/speeches_111.txt', 'LocalPath': '/opt/ml/processing/input/speeches', 'S3DataType': 'S3Prefix', 'S3InputMode': 'File', 'S3DataDistributionType': 'FullyReplicated', 'S3CompressionType': 'None'}}, {'InputName': 'input-2', 'AppManaged': False, 'S3Input': {'S3Uri': 's3://ascsagemaker/JMP_congressional_nmf/raw_data/descr_111.txt', 'LocalPath': '/opt/ml/processing/input/descr', 'S3DataType': 'S3Prefix', 'S3InputMode': 'File', 'S3DataDistributionType': 'FullyReplicated', 'S3CompressionType': 'None'}}, {'InputName': 'code', 'AppManaged': False, 'S3Input': {'S3Uri': 's3://sagemaker-us-east-1-064258348567/sagemaker-processing-container-2021-08-27-15-21-25-148/input/code/congress_pre_process_withParty.py', 'LocalPath': '/opt/ml/processing/input/code', 'S3DataType': 'S3Prefix', 'S3InputMode': 'File', 'S3DataDistributionType': 'FullyReplicated', 'S3CompressionType': 'None'}}]\n",
      "Outputs:  [{'OutputName': 'output-1', 'AppManaged': False, 'S3Output': {'S3Uri': 's3://ascsagemaker/JMP_congressional_nmf/House_bigrams', 'LocalPath': '/opt/ml/processing/output', 'S3UploadMode': 'EndOfJob'}}]\n",
      "Scheduling 112\n",
      "\n",
      "Job Name:  sagemaker-processing-container-2021-08-27-15-21-25-429\n",
      "Inputs:  [{'InputName': 'input-1', 'AppManaged': False, 'S3Input': {'S3Uri': 's3://ascsagemaker/JMP_congressional_nmf/raw_data/speeches_112.txt', 'LocalPath': '/opt/ml/processing/input/speeches', 'S3DataType': 'S3Prefix', 'S3InputMode': 'File', 'S3DataDistributionType': 'FullyReplicated', 'S3CompressionType': 'None'}}, {'InputName': 'input-2', 'AppManaged': False, 'S3Input': {'S3Uri': 's3://ascsagemaker/JMP_congressional_nmf/raw_data/descr_112.txt', 'LocalPath': '/opt/ml/processing/input/descr', 'S3DataType': 'S3Prefix', 'S3InputMode': 'File', 'S3DataDistributionType': 'FullyReplicated', 'S3CompressionType': 'None'}}, {'InputName': 'code', 'AppManaged': False, 'S3Input': {'S3Uri': 's3://sagemaker-us-east-1-064258348567/sagemaker-processing-container-2021-08-27-15-21-25-429/input/code/congress_pre_process_withParty.py', 'LocalPath': '/opt/ml/processing/input/code', 'S3DataType': 'S3Prefix', 'S3InputMode': 'File', 'S3DataDistributionType': 'FullyReplicated', 'S3CompressionType': 'None'}}]\n",
      "Outputs:  [{'OutputName': 'output-1', 'AppManaged': False, 'S3Output': {'S3Uri': 's3://ascsagemaker/JMP_congressional_nmf/House_bigrams', 'LocalPath': '/opt/ml/processing/output', 'S3UploadMode': 'EndOfJob'}}]\n",
      "Scheduling 113\n",
      "\n",
      "Job Name:  sagemaker-processing-container-2021-08-27-15-21-27-993\n",
      "Inputs:  [{'InputName': 'input-1', 'AppManaged': False, 'S3Input': {'S3Uri': 's3://ascsagemaker/JMP_congressional_nmf/raw_data/speeches_113.txt', 'LocalPath': '/opt/ml/processing/input/speeches', 'S3DataType': 'S3Prefix', 'S3InputMode': 'File', 'S3DataDistributionType': 'FullyReplicated', 'S3CompressionType': 'None'}}, {'InputName': 'input-2', 'AppManaged': False, 'S3Input': {'S3Uri': 's3://ascsagemaker/JMP_congressional_nmf/raw_data/descr_113.txt', 'LocalPath': '/opt/ml/processing/input/descr', 'S3DataType': 'S3Prefix', 'S3InputMode': 'File', 'S3DataDistributionType': 'FullyReplicated', 'S3CompressionType': 'None'}}, {'InputName': 'code', 'AppManaged': False, 'S3Input': {'S3Uri': 's3://sagemaker-us-east-1-064258348567/sagemaker-processing-container-2021-08-27-15-21-27-993/input/code/congress_pre_process_withParty.py', 'LocalPath': '/opt/ml/processing/input/code', 'S3DataType': 'S3Prefix', 'S3InputMode': 'File', 'S3DataDistributionType': 'FullyReplicated', 'S3CompressionType': 'None'}}]\n",
      "Outputs:  [{'OutputName': 'output-1', 'AppManaged': False, 'S3Output': {'S3Uri': 's3://ascsagemaker/JMP_congressional_nmf/House_bigrams', 'LocalPath': '/opt/ml/processing/output', 'S3UploadMode': 'EndOfJob'}}]\n",
      "Scheduling 114\n",
      "\n",
      "Job Name:  sagemaker-processing-container-2021-08-27-15-21-28-743\n",
      "Inputs:  [{'InputName': 'input-1', 'AppManaged': False, 'S3Input': {'S3Uri': 's3://ascsagemaker/JMP_congressional_nmf/raw_data/speeches_114.txt', 'LocalPath': '/opt/ml/processing/input/speeches', 'S3DataType': 'S3Prefix', 'S3InputMode': 'File', 'S3DataDistributionType': 'FullyReplicated', 'S3CompressionType': 'None'}}, {'InputName': 'input-2', 'AppManaged': False, 'S3Input': {'S3Uri': 's3://ascsagemaker/JMP_congressional_nmf/raw_data/descr_114.txt', 'LocalPath': '/opt/ml/processing/input/descr', 'S3DataType': 'S3Prefix', 'S3InputMode': 'File', 'S3DataDistributionType': 'FullyReplicated', 'S3CompressionType': 'None'}}, {'InputName': 'code', 'AppManaged': False, 'S3Input': {'S3Uri': 's3://sagemaker-us-east-1-064258348567/sagemaker-processing-container-2021-08-27-15-21-28-743/input/code/congress_pre_process_withParty.py', 'LocalPath': '/opt/ml/processing/input/code', 'S3DataType': 'S3Prefix', 'S3InputMode': 'File', 'S3DataDistributionType': 'FullyReplicated', 'S3CompressionType': 'None'}}]\n",
      "Outputs:  [{'OutputName': 'output-1', 'AppManaged': False, 'S3Output': {'S3Uri': 's3://ascsagemaker/JMP_congressional_nmf/House_bigrams', 'LocalPath': '/opt/ml/processing/output', 'S3UploadMode': 'EndOfJob'}}]\n"
     ]
    }
   ],
   "source": [
    "for chamber in [111,112,113,114]:\n",
    "    cstr = '{:0>3}'.format(chamber)\n",
    "    print('Scheduling', chamber)\n",
    "    script_processor.run(code='scripts/congress_pre_process_withParty.py',\n",
    "                     inputs=[ProcessingInput(\n",
    "                        source=f's3://ascsagemaker/JMP_congressional_nmf/raw_data/speeches_{cstr}.txt',\n",
    "                        destination='/opt/ml/processing/input/speeches'),\n",
    "                            ProcessingInput(\n",
    "                        source=f's3://ascsagemaker/JMP_congressional_nmf/raw_data/descr_{cstr}.txt',\n",
    "                        destination='/opt/ml/processing/input/descr')\n",
    "                            ],\n",
    "                      outputs=[ProcessingOutput(\n",
    "                        source='/opt/ml/processing/output',\n",
    "                        destination='s3://ascsagemaker/JMP_congressional_nmf/House_bigrams')],\n",
    "                      arguments=[cstr],\n",
    "                     wait=False\n",
    "                    )"
   ]
  },
  {
   "cell_type": "code",
   "execution_count": 6,
   "id": "0b587238",
   "metadata": {},
   "outputs": [
    {
     "data": {
      "text/plain": [
       "{'ProcessingInputs': [{'InputName': 'input-1',\n",
       "   'AppManaged': False,\n",
       "   'S3Input': {'S3Uri': 's3://ascsagemaker/JMP_congressional_nmf/raw_data/speeches_110.txt',\n",
       "    'LocalPath': '/opt/ml/processing/input/speeches',\n",
       "    'S3DataType': 'S3Prefix',\n",
       "    'S3InputMode': 'File',\n",
       "    'S3DataDistributionType': 'FullyReplicated',\n",
       "    'S3CompressionType': 'None'}},\n",
       "  {'InputName': 'input-2',\n",
       "   'AppManaged': False,\n",
       "   'S3Input': {'S3Uri': 's3://ascsagemaker/JMP_congressional_nmf/raw_data/descr_110.txt',\n",
       "    'LocalPath': '/opt/ml/processing/input/descr',\n",
       "    'S3DataType': 'S3Prefix',\n",
       "    'S3InputMode': 'File',\n",
       "    'S3DataDistributionType': 'FullyReplicated',\n",
       "    'S3CompressionType': 'None'}},\n",
       "  {'InputName': 'code',\n",
       "   'AppManaged': False,\n",
       "   'S3Input': {'S3Uri': 's3://sagemaker-us-east-1-064258348567/sagemaker-processing-container-2021-05-10-12-48-35-529/input/code/congress_pre_process.py',\n",
       "    'LocalPath': '/opt/ml/processing/input/code',\n",
       "    'S3DataType': 'S3Prefix',\n",
       "    'S3InputMode': 'File',\n",
       "    'S3DataDistributionType': 'FullyReplicated',\n",
       "    'S3CompressionType': 'None'}}],\n",
       " 'ProcessingOutputConfig': {'Outputs': [{'OutputName': 'output-1',\n",
       "    'S3Output': {'S3Uri': 's3://ascsagemaker/JMP_congressional_nmf/latest_dtms',\n",
       "     'LocalPath': '/opt/ml/processing/output',\n",
       "     'S3UploadMode': 'EndOfJob'},\n",
       "    'AppManaged': False}]},\n",
       " 'ProcessingJobName': 'sagemaker-processing-container-2021-05-10-12-48-35-529',\n",
       " 'ProcessingResources': {'ClusterConfig': {'InstanceCount': 1,\n",
       "   'InstanceType': 'ml.m5.2xlarge',\n",
       "   'VolumeSizeInGB': 30}},\n",
       " 'StoppingCondition': {'MaxRuntimeInSeconds': 86400},\n",
       " 'AppSpecification': {'ImageUri': '064258348567.dkr.ecr.us-east-1.amazonaws.com/sagemaker-processing-container:latest',\n",
       "  'ContainerEntrypoint': ['python3',\n",
       "   '/opt/ml/processing/input/code/congress_pre_process.py'],\n",
       "  'ContainerArguments': ['110']},\n",
       " 'RoleArn': 'arn:aws:iam::064258348567:role/service-role/AmazonSageMaker-ExecutionRole-20200131T104492',\n",
       " 'ProcessingJobArn': 'arn:aws:sagemaker:us-east-1:064258348567:processing-job/sagemaker-processing-container-2021-05-10-12-48-35-529',\n",
       " 'ProcessingJobStatus': 'InProgress',\n",
       " 'LastModifiedTime': datetime.datetime(2021, 5, 10, 12, 48, 36, 557000, tzinfo=tzlocal()),\n",
       " 'CreationTime': datetime.datetime(2021, 5, 10, 12, 48, 36, 94000, tzinfo=tzlocal()),\n",
       " 'ResponseMetadata': {'RequestId': 'e2aa056b-ed7c-4ee3-b9d6-e8b5849eb429',\n",
       "  'HTTPStatusCode': 200,\n",
       "  'HTTPHeaders': {'x-amzn-requestid': 'e2aa056b-ed7c-4ee3-b9d6-e8b5849eb429',\n",
       "   'content-type': 'application/x-amz-json-1.1',\n",
       "   'content-length': '1989',\n",
       "   'date': 'Mon, 10 May 2021 12:48:39 GMT'},\n",
       "  'RetryAttempts': 0}}"
      ]
     },
     "execution_count": 6,
     "metadata": {},
     "output_type": "execute_result"
    }
   ],
   "source": [
    "script_processor.jobs[0].describe()"
   ]
  },
  {
   "cell_type": "code",
   "execution_count": null,
   "id": "b6b9c14e",
   "metadata": {},
   "outputs": [],
   "source": []
  },
  {
   "cell_type": "code",
   "execution_count": null,
   "id": "41e33a50",
   "metadata": {},
   "outputs": [],
   "source": []
  }
 ],
 "metadata": {
  "kernelspec": {
   "display_name": "conda_python3",
   "language": "python",
   "name": "conda_python3"
  },
  "language_info": {
   "codemirror_mode": {
    "name": "ipython",
    "version": 3
   },
   "file_extension": ".py",
   "mimetype": "text/x-python",
   "name": "python",
   "nbconvert_exporter": "python",
   "pygments_lexer": "ipython3",
   "version": "3.6.13"
  }
 },
 "nbformat": 4,
 "nbformat_minor": 5
}
